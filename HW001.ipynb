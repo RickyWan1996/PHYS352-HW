{
 "cells": [
  {
   "cell_type": "code",
   "execution_count": 22,
   "metadata": {
    "collapsed": true
   },
   "outputs": [],
   "source": [
    "import sympy as sp\n",
    "import math\n",
    "sp.init_printing()"
   ]
  },
  {
   "cell_type": "markdown",
   "metadata": {},
   "source": [
    "### Problem 1.3\n",
    "Finding the angle between the body diagonals of a cube."
   ]
  },
  {
   "cell_type": "markdown",
   "metadata": {
    "collapsed": true
   },
   "source": [
    "### Let the length of the cube be 1 so the body diagonals be (1, 1, 1) and (1 ,1 -1)"
   ]
  },
  {
   "cell_type": "code",
   "execution_count": 23,
   "metadata": {
    "collapsed": false
   },
   "outputs": [],
   "source": [
    "A_j, A_i = sp.symbols('A_j A_i')\n",
    "theta = sp.symbols('theta')"
   ]
  },
  {
   "cell_type": "code",
   "execution_count": 24,
   "metadata": {
    "collapsed": true
   },
   "outputs": [],
   "source": [
    "A_i = (1,1,1)\n",
    "A_j = (1,1,-1)"
   ]
  },
  {
   "cell_type": "code",
   "execution_count": 25,
   "metadata": {
    "collapsed": false
   },
   "outputs": [
    {
     "data": {
      "image/png": "[encoded data removed]",
      "text/latex": [
       "$$1$$"
      ],
      "text/plain": [
       "1"
      ]
     },
     "execution_count": 25,
     "metadata": {},
     "output_type": "execute_result"
    }
   ],
   "source": [
    "from sympy import Matrix\n",
    "A_i = Matrix ([[1,1,1]])\n",
    "A_j = Matrix ([[1,1,-1]])\n",
    "n = A_i.dot(A_j)\n",
    "n"
   ]
  },
  {
   "cell_type": "markdown",
   "metadata": {},
   "source": []
  },
  {
   "cell_type": "code",
   "execution_count": 26,
   "metadata": {
    "collapsed": false
   },
   "outputs": [
    {
     "data": {
      "image/png": "[encoded data removed]",
      "text/latex": [
       "$$\\sqrt{3}$$"
      ],
      "text/plain": [
       "√3"
      ]
     },
     "execution_count": 26,
     "metadata": {},
     "output_type": "execute_result"
    }
   ],
   "source": [
    "i = sp.sqrt (A_i.dot(A_i))\n",
    "j = sp.sqrt (A_j.dot(A_j))\n",
    "i\n"
   ]
  },
  {
   "cell_type": "code",
   "execution_count": 27,
   "metadata": {
    "collapsed": false
   },
   "outputs": [
    {
     "data": {
      "image/png": "[encoded data removed]",
      "text/latex": [
       "$$\\sqrt{3}$$"
      ],
      "text/plain": [
       "√3"
      ]
     },
     "execution_count": 27,
     "metadata": {},
     "output_type": "execute_result"
    }
   ],
   "source": [
    "j"
   ]
  },
  {
   "cell_type": "code",
   "execution_count": 28,
   "metadata": {
    "collapsed": false
   },
   "outputs": [
    {
     "data": {
      "image/png": "[encoded data removed]",
      "text/latex": [
       "$$\\operatorname{acos}{\\left (\\frac{1}{3} \\right )}$$"
      ],
      "text/plain": [
       "acos(1/3)"
      ]
     },
     "execution_count": 28,
     "metadata": {},
     "output_type": "execute_result"
    }
   ],
   "source": [
    "theta = sp.acos(n/(i*j))\n",
    "theta"
   ]
  },
  {
   "cell_type": "markdown",
   "metadata": {},
   "source": [
    "### Problem 1.5\n",
    "### prove BAC-CAB rule"
   ]
  },
  {
   "cell_type": "code",
   "execution_count": 29,
   "metadata": {
    "collapsed": true
   },
   "outputs": [],
   "source": [
    "A_i,A_k, A_j = sp.symbols('A_i A_k A_j')\n",
    "B_j, B_k, B_l = sp.symbols('B_j B_k B_l')\n",
    "C_m, C_j, C_k = sp.symbols('C_m, C_j C_k')\n",
    "epsijk, epslim, epsklm = sp.symbols('epsilon_ijk epsilon_lim epsilon_klm')\n",
    "deltajm, deltakl, deltajl, deltakm = sp.symbols('delta_jm delta_kl delta_jl delta_km')\n",
    "deltami, deltali = sp.symbols('delta_mi delta_li')"
   ]
  },
  {
   "cell_type": "code",
   "execution_count": 30,
   "metadata": {
    "collapsed": false
   },
   "outputs": [
    {
     "data": {
      "image/png": "[encoded data removed]",
      "text/latex": [
       "$$A_{j} B_{l} C_{m} \\epsilon_{ijk} \\epsilon_{klm}$$"
      ],
      "text/plain": [
       "A_j⋅Bₗ⋅Cₘ⋅ε_ijk⋅εₖₗₘ"
      ]
     },
     "execution_count": 30,
     "metadata": {},
     "output_type": "execute_result"
    }
   ],
   "source": [
    "lhs_1 = epsijk*A_j*epsklm*B_l*C_m\n",
    "lhs_1"
   ]
  },
  {
   "cell_type": "code",
   "execution_count": 31,
   "metadata": {
    "collapsed": false
   },
   "outputs": [
    {
     "data": {
      "image/png": "[encoded data removed]",
      "text/latex": [
       "$$- A_{j} B_{l} C_{m} \\delta_{jl} \\delta_{mi} + A_{j} B_{l} C_{m} \\delta_{jm} \\delta_{li}$$"
      ],
      "text/plain": [
       "-A_j⋅Bₗ⋅Cₘ⋅δ_jl⋅δₘᵢ + A_j⋅Bₗ⋅Cₘ⋅δ_jm⋅δₗᵢ"
      ]
     },
     "execution_count": 31,
     "metadata": {},
     "output_type": "execute_result"
    }
   ],
   "source": [
    "lhs_2 = lhs_1.subs(epsklm*epsijk, deltali*deltajm - deltami*deltajl).expand()\n",
    "lhs_2"
   ]
  },
  {
   "cell_type": "code",
   "execution_count": 32,
   "metadata": {
    "collapsed": false,
    "scrolled": true
   },
   "outputs": [
    {
     "data": {
      "image/png": "[encoded data removed]",
      "text/latex": [
       "$$- A_{j} B_{j} C_{m} + A_{j} B_{l} C_{j}$$"
      ],
      "text/plain": [
       "-A_j⋅B_j⋅Cₘ + A_j⋅Bₗ⋅C_j"
      ]
     },
     "execution_count": 32,
     "metadata": {},
     "output_type": "execute_result"
    }
   ],
   "source": [
    "lhs_3 = lhs_2.subs(deltajl*B_l, B_j).subs(deltami*C_m, C_m).subs(deltajm*C_m, C_j).subs(deltali*B_l, B_l)\n",
    "lhs_3"
   ]
  },
  {
   "cell_type": "markdown",
   "metadata": {},
   "source": [
    "#### so we translate the answer into vector form, it is  $$\\left(\\mathbf{A}\\cdot\\mathbf{C}\\right)\\mathbf{B} - \\left(\\mathbf{B}\\cdot\\mathbf{A}\\right)\\mathbf{C}$$"
   ]
  },
  {
   "cell_type": "markdown",
   "metadata": {},
   "source": [
    "### Problem 1.7"
   ]
  },
  {
   "cell_type": "markdown",
   "metadata": {},
   "source": [
    "#### Find the separation vector from the source point (2,8,7) to the field source ( 4, 6, 8). Determine its magnitude and construct the unit vector"
   ]
  },
  {
   "cell_type": "code",
   "execution_count": 33,
   "metadata": {
    "collapsed": false
   },
   "outputs": [
    {
     "data": {
      "text/latex": [
       "$$\\mathfrak{r} = \\left[\\begin{matrix}2 & -2 & 1\\end{matrix}\\right]$$"
      ],
      "text/plain": [
       "rfrak = [2  -2  1]"
      ]
     },
     "execution_count": 33,
     "metadata": {},
     "output_type": "execute_result"
    }
   ],
   "source": [
    "rfrak, rfrakabs, rfrakhat = sp.symbols('rfrak rfrakabs rfrakhat')\n",
    "\n",
    "r = sp.Matrix([[4,6,8,]])\n",
    "rprime = sp.Matrix([[2,8,7]])\n",
    "scriptr = r - rprime\n",
    "sp.Eq(rfrak,scriptr, evaluate = False)"
   ]
  },
  {
   "cell_type": "code",
   "execution_count": 34,
   "metadata": {
    "collapsed": false
   },
   "outputs": [
    {
     "data": {
      "image/png": "[encoded data removed]",
      "text/latex": [
       "$$\\left|{\\mathfrak{r}}\\right| = 3$$"
      ],
      "text/plain": [
       "|rfrak| = 3"
      ]
     },
     "execution_count": 34,
     "metadata": {},
     "output_type": "execute_result"
    }
   ],
   "source": [
    "magnitude = sp.sqrt(scriptr.dot(scriptr))\n",
    "sp.Eq(rfrakabs, magnitude, evaluate = False)"
   ]
  },
  {
   "cell_type": "code",
   "execution_count": 35,
   "metadata": {
    "collapsed": false
   },
   "outputs": [
    {
     "data": {
      "image/png": "[encoded data removed]",
      "text/latex": [
       "$$\\frac{\\mathfrak{r}}{\\left|{\\mathfrak{r}}\\right|}$$"
      ],
      "text/plain": [
       " rfrak \n",
       "───────\n",
       "|rfrak|"
      ]
     },
     "execution_count": 35,
     "metadata": {},
     "output_type": "execute_result"
    }
   ],
   "source": [
    "rfrakhat = rfrak/rfrakabs\n",
    "rfrakhat"
   ]
  },
  {
   "cell_type": "markdown",
   "metadata": {},
   "source": [
    "### Problem 1.11"
   ]
  },
  {
   "cell_type": "code",
   "execution_count": 36,
   "metadata": {
    "collapsed": false
   },
   "outputs": [],
   "source": [
    "x,y,z,e= sp.symbols ('x y z e')\n",
    "def gradient(expr):\n",
    "    return sp.Matrix([[expr.diff(x), expr.diff(y), expr.diff(z)]])"
   ]
  },
  {
   "cell_type": "code",
   "execution_count": 37,
   "metadata": {
    "collapsed": false
   },
   "outputs": [
    {
     "data": {
      "text/latex": [
       "$$\\left[\\begin{matrix}2 x & 3 y^{2} & 4 z^{3}\\end{matrix}\\right]$$"
      ],
      "text/plain": [
       "⎡        2     3⎤\n",
       "⎣2⋅x  3⋅y   4⋅z ⎦"
      ]
     },
     "execution_count": 37,
     "metadata": {},
     "output_type": "execute_result"
    }
   ],
   "source": [
    "result_a = gradient(x**2+y**3+z**4)\n",
    "result_a"
   ]
  },
  {
   "cell_type": "code",
   "execution_count": 38,
   "metadata": {
    "collapsed": false
   },
   "outputs": [
    {
     "data": {
      "text/latex": [
       "$$\\left[\\begin{matrix}2 x y^{3} z^{4} & 3 x^{2} y^{2} z^{4} & 4 x^{2} y^{3} z^{3}\\end{matrix}\\right]$$"
      ],
      "text/plain": [
       "⎡     3  4     2  2  4     2  3  3⎤\n",
       "⎣2⋅x⋅y ⋅z   3⋅x ⋅y ⋅z   4⋅x ⋅y ⋅z ⎦"
      ]
     },
     "execution_count": 38,
     "metadata": {},
     "output_type": "execute_result"
    }
   ],
   "source": [
    "result_b = gradient(x**2*y**3*z**4)\n",
    "result_b"
   ]
  },
  {
   "cell_type": "code",
   "execution_count": 39,
   "metadata": {
    "collapsed": false
   },
   "outputs": [
    {
     "data": {
      "text/latex": [
       "$$\\left[\\begin{matrix}e^{x} \\log{\\left (e \\right )} \\log{\\left (z \\right )} \\sin{\\left (y \\right )} & e^{x} \\log{\\left (z \\right )} \\cos{\\left (y \\right )} & \\frac{e^{x}}{z} \\sin{\\left (y \\right )}\\end{matrix}\\right]$$"
      ],
      "text/plain": [
       "⎡                                            x       ⎤\n",
       "⎢ x                        x                e ⋅sin(y)⎥\n",
       "⎢e ⋅log(e)⋅log(z)⋅sin(y)  e ⋅log(z)⋅cos(y)  ─────────⎥\n",
       "⎣                                               z    ⎦"
      ]
     },
     "execution_count": 39,
     "metadata": {},
     "output_type": "execute_result"
    }
   ],
   "source": [
    "result_c = gradient(e**x*sp.sin(y)*sp.ln(z))\n",
    "result_c"
   ]
  },
  {
   "cell_type": "markdown",
   "metadata": {},
   "source": [
    "### Problem 1.15"
   ]
  },
  {
   "cell_type": "markdown",
   "metadata": {},
   "source": [
    "#### calculate the divergence of the following vector functions:"
   ]
  },
  {
   "cell_type": "code",
   "execution_count": 40,
   "metadata": {
    "collapsed": true
   },
   "outputs": [],
   "source": [
    "x,y,z = sp.symbols('x y z')\n",
    "def cartesian_div(vector_field):\n",
    "    \n",
    "    x,y,z = sp.symbols('x y z')\n",
    "    \n",
    "    return sp.diff(vector_field[0], x) + sp.diff(vector_field[1], y) + sp.diff(vector_field[2], z)"
   ]
  },
  {
   "cell_type": "code",
   "execution_count": 41,
   "metadata": {
    "collapsed": false
   },
   "outputs": [
    {
     "data": {
      "image/png": "[encoded data removed]",
      "text/latex": [
       "$$0$$"
      ],
      "text/plain": [
       "0"
      ]
     },
     "execution_count": 41,
     "metadata": {},
     "output_type": "execute_result"
    }
   ],
   "source": [
    "vec_a = sp.Matrix([x**2, 3*x*z**2, -2*x*z])\n",
    "div_a = cartesian_div(vec_a)\n",
    "div_a"
   ]
  },
  {
   "cell_type": "code",
   "execution_count": 42,
   "metadata": {
    "collapsed": false
   },
   "outputs": [
    {
     "data": {
      "image/png": "[encoded data removed]",
      "text/latex": [
       "$$3 x + y + 2 z$$"
      ],
      "text/plain": [
       "3⋅x + y + 2⋅z"
      ]
     },
     "execution_count": 42,
     "metadata": {},
     "output_type": "execute_result"
    }
   ],
   "source": [
    "vec_b = sp.Matrix([x*y, 2*y*z, 3*z*x])\n",
    "div_b = cartesian_div(vec_b)\n",
    "div_b"
   ]
  },
  {
   "cell_type": "code",
   "execution_count": 43,
   "metadata": {
    "collapsed": false
   },
   "outputs": [
    {
     "data": {
      "image/png": "[encoded data removed]",
      "text/latex": [
       "$$2 x + 2 y$$"
      ],
      "text/plain": [
       "2⋅x + 2⋅y"
      ]
     },
     "execution_count": 43,
     "metadata": {},
     "output_type": "execute_result"
    }
   ],
   "source": [
    "vec_c = sp.Matrix([y**2, 2*x*y+z**2,2*y*z])\n",
    "div_c = cartesian_div(vec_c)\n",
    "div_c"
   ]
  },
  {
   "cell_type": "markdown",
   "metadata": {},
   "source": [
    "### Problem 1.18"
   ]
  },
  {
   "cell_type": "markdown",
   "metadata": {},
   "source": [
    "#### calculate the curl of the function in 1.15"
   ]
  },
  {
   "cell_type": "code",
   "execution_count": 44,
   "metadata": {
    "collapsed": true
   },
   "outputs": [],
   "source": [
    "\n",
    "def curl(vec):\n",
    "    \n",
    "    x,y,z = sp.symbols('x y z')\n",
    "    \n",
    "    curl_x = sp.diff(vec[2], y ) - sp.diff(vec[1],z)\n",
    "    \n",
    "    curl_y = sp.diff(vec[0], z) - sp.diff(vec[2], x)\n",
    "    \n",
    "    curl_z = sp.diff(vec[1] ,x) -sp.diff(vec[0], y )\n",
    "    \n",
    "    return sp.Matrix([[curl_x, curl_y, curl_z]])"
   ]
  },
  {
   "cell_type": "code",
   "execution_count": 50,
   "metadata": {
    "collapsed": false
   },
   "outputs": [
    {
     "data": {
      "text/latex": [
       "$$\\left[\\begin{matrix}- 6 x z & 2 z & 3 z^{2}\\end{matrix}\\right]$$"
      ],
      "text/plain": [
       "⎡                2⎤\n",
       "⎣-6⋅x⋅z  2⋅z  3⋅z ⎦"
      ]
     },
     "execution_count": 50,
     "metadata": {},
     "output_type": "execute_result"
    }
   ],
   "source": [
    "Answr_1 = curl(sp.Matrix([x**2, 3*x*z**2, -2*x*z]))\n",
    "Answr_1"
   ]
  },
  {
   "cell_type": "code",
   "execution_count": 51,
   "metadata": {
    "collapsed": false
   },
   "outputs": [
    {
     "data": {
      "text/latex": [
       "$$\\left[\\begin{matrix}- 2 y & - 3 z & - x\\end{matrix}\\right]$$"
      ],
      "text/plain": [
       "[-2⋅y  -3⋅z  -x]"
      ]
     },
     "execution_count": 51,
     "metadata": {},
     "output_type": "execute_result"
    }
   ],
   "source": [
    "Answr_2 = curl(sp.Matrix([x*y, 2*y*z, 3*z*x]))\n",
    "Answr_2"
   ]
  },
  {
   "cell_type": "code",
   "execution_count": 52,
   "metadata": {
    "collapsed": false
   },
   "outputs": [
    {
     "data": {
      "text/latex": [
       "$$\\left[\\begin{matrix}0 & 0 & 0\\end{matrix}\\right]$$"
      ],
      "text/plain": [
       "[0  0  0]"
      ]
     },
     "execution_count": 52,
     "metadata": {},
     "output_type": "execute_result"
    }
   ],
   "source": [
    "Answr_3 = curl(sp.Matrix([y**2, 2*x*y+z**2,2*y*z]))\n",
    "Answr_3"
   ]
  }
 ],
 "metadata": {
  "anaconda-cloud": {},
  "kernelspec": {
   "display_name": "Python [Root]",
   "language": "python",
   "name": "Python [Root]"
  },
  "language_info": {
   "codemirror_mode": {
    "name": "ipython",
    "version": 3
   },
   "file_extension": ".py",
   "mimetype": "text/x-python",
   "name": "python",
   "nbconvert_exporter": "python",
   "pygments_lexer": "ipython3",
   "version": "3.5.2"
  }
 },
 "nbformat": 4,
 "nbformat_minor": 2
}
