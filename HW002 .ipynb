{
 "cells": [
  {
   "cell_type": "markdown",
   "metadata": {},
   "source": [
    "### Problem 1.25 Check the product rule (iv) "
   ]
  },
  {
   "cell_type": "code",
   "execution_count": 254,
   "metadata": {
    "collapsed": false
   },
   "outputs": [],
   "source": [
    "import sympy as sp\n",
    "import math\n",
    "sp.init_printing()\n",
    "from sympy import Matrix\n",
    "A, B, x, y, z = sp.symbols('A B x y z')\n",
    "A = sp.Matrix([[x,2*y,3*z]])\n",
    "B = sp.Matrix([[3*y,-2*x,0]])\n",
    "def cartesian_div(vector_field):\n",
    "    return sp.diff(vector_field[0], x) + sp.diff(vector_field[1], y) + sp.diff(vector_field[2], z)\n",
    "from sympy import vector"
   ]
  },
  {
   "cell_type": "code",
   "execution_count": 255,
   "metadata": {
    "collapsed": true
   },
   "outputs": [],
   "source": [
    "def curl(vec):\n",
    "    curl_x = sp.diff(vec[2], y ) - sp.diff(vec[1],z)\n",
    "    \n",
    "    curl_y = sp.diff(vec[0], z) - sp.diff(vec[2], x)\n",
    "    \n",
    "    curl_z = sp.diff(vec[1] ,x) -sp.diff(vec[0], y )\n",
    "    \n",
    "    return sp.Matrix([[curl_x, curl_y, curl_z]])"
   ]
  },
  {
   "cell_type": "code",
   "execution_count": 256,
   "metadata": {
    "collapsed": false
   },
   "outputs": [
    {
     "data": {
      "text/latex": [
       "$$\\left[\\begin{matrix}6 x z & 9 y z & - 2 x^{2} - 6 y^{2}\\end{matrix}\\right]$$"
      ],
      "text/plain": [
       "⎡                   2      2⎤\n",
       "⎣6⋅x⋅z  9⋅y⋅z  - 2⋅x  - 6⋅y ⎦"
      ]
     },
     "execution_count": 256,
     "metadata": {},
     "output_type": "execute_result"
    }
   ],
   "source": [
    "n = A.cross(B)\n",
    "n"
   ]
  },
  {
   "cell_type": "code",
   "execution_count": 257,
   "metadata": {
    "collapsed": false
   },
   "outputs": [
    {
     "data": {
      "text/latex": [
       "$$15 z$$"
      ],
      "text/plain": [
       "15⋅z"
      ]
     },
     "execution_count": 257,
     "metadata": {},
     "output_type": "execute_result"
    }
   ],
   "source": [
    "lhs = cartesian_div(n)\n",
    "lhs"
   ]
  },
  {
   "cell_type": "code",
   "execution_count": 258,
   "metadata": {
    "collapsed": false
   },
   "outputs": [
    {
     "data": {
      "text/latex": [
       "$$15 z$$"
      ],
      "text/plain": [
       "15⋅z"
      ]
     },
     "execution_count": 258,
     "metadata": {},
     "output_type": "execute_result"
    }
   ],
   "source": [
    "rhs = B.dot(curl(A))-A.dot(curl(B))\n",
    "rhs"
   ]
  },
  {
   "cell_type": "code",
   "execution_count": 259,
   "metadata": {
    "collapsed": false
   },
   "outputs": [
    {
     "data": {
      "text/plain": [
       "True"
      ]
     },
     "execution_count": 259,
     "metadata": {},
     "output_type": "execute_result"
    }
   ],
   "source": [
    "lhs == rhs"
   ]
  },
  {
   "cell_type": "code",
   "execution_count": 260,
   "metadata": {
    "collapsed": true
   },
   "outputs": [],
   "source": [
    "def gradient(expr):\n",
    "    return sp.Matrix([[expr.diff(x), expr.diff(y), expr.diff(z)]])"
   ]
  },
  {
   "cell_type": "code",
   "execution_count": 261,
   "metadata": {
    "collapsed": false
   },
   "outputs": [
    {
     "data": {
      "text/latex": [
       "$$\\left[\\begin{matrix}- y & - x & 0\\end{matrix}\\right]$$"
      ],
      "text/plain": [
       "[-y  -x  0]"
      ]
     },
     "execution_count": 261,
     "metadata": {},
     "output_type": "execute_result"
    }
   ],
   "source": [
    "lhs = gradient(A.dot(B))\n",
    "lhs"
   ]
  },
  {
   "cell_type": "code",
   "execution_count": 262,
   "metadata": {
    "collapsed": false
   },
   "outputs": [],
   "source": [
    "C = sp.Matrix([[6*y,-2*x,0]])\n",
    "D=sp.Matrix([[3*y,-4*x,0]])"
   ]
  },
  {
   "cell_type": "code",
   "execution_count": 263,
   "metadata": {
    "collapsed": false
   },
   "outputs": [
    {
     "data": {
      "text/latex": [
       "$$\\left[\\begin{matrix}- y & - x & 0\\end{matrix}\\right]$$"
      ],
      "text/plain": [
       "[-y  -x  0]"
      ]
     },
     "execution_count": 263,
     "metadata": {},
     "output_type": "execute_result"
    }
   ],
   "source": [
    "rhs = A.cross(curl(B))+B.cross(curl(A))+C+D\n",
    "rhs"
   ]
  },
  {
   "cell_type": "code",
   "execution_count": 264,
   "metadata": {
    "collapsed": false
   },
   "outputs": [
    {
     "data": {
      "text/plain": [
       "True"
      ]
     },
     "execution_count": 264,
     "metadata": {},
     "output_type": "execute_result"
    }
   ],
   "source": [
    "rhs == lhs"
   ]
  },
  {
   "cell_type": "code",
   "execution_count": 265,
   "metadata": {
    "collapsed": false
   },
   "outputs": [
    {
     "data": {
      "text/latex": [
       "$$\\left[\\begin{matrix}- 21 y & 10 x & 0\\end{matrix}\\right]$$"
      ],
      "text/plain": [
       "[-21⋅y  10⋅x  0]"
      ]
     },
     "execution_count": 265,
     "metadata": {},
     "output_type": "execute_result"
    }
   ],
   "source": [
    "lhs = curl(A.cross(B))\n",
    "lhs"
   ]
  },
  {
   "cell_type": "code",
   "execution_count": 266,
   "metadata": {
    "collapsed": false
   },
   "outputs": [
    {
     "data": {
      "text/latex": [
       "$$\\left[\\begin{matrix}- 21 y & 10 x & 0\\end{matrix}\\right]$$"
      ],
      "text/plain": [
       "[-21⋅y  10⋅x  0]"
      ]
     },
     "execution_count": 266,
     "metadata": {},
     "output_type": "execute_result"
    }
   ],
   "source": [
    "rhs = D - C + A*(cartesian_div(B)) - B*(cartesian_div(A))\n",
    "rhs"
   ]
  },
  {
   "cell_type": "code",
   "execution_count": 267,
   "metadata": {
    "collapsed": false
   },
   "outputs": [
    {
     "data": {
      "text/plain": [
       "True"
      ]
     },
     "execution_count": 267,
     "metadata": {},
     "output_type": "execute_result"
    }
   ],
   "source": [
    "rhs == lhs"
   ]
  },
  {
   "cell_type": "markdown",
   "metadata": {},
   "source": [
    "### Problem 1.26 "
   ]
  },
  {
   "cell_type": "code",
   "execution_count": 268,
   "metadata": {
    "collapsed": true
   },
   "outputs": [],
   "source": [
    "\n",
    "C = vector.CoordSys3D('', vector_names=['x', \"y\", \"z\"],\n",
    "                     variable_names=['x', \"y\", \"z\"])\n",
    "\n",
    "xhat = C.i\n",
    "yhat = C.j\n",
    "zhat = C.k\n",
    "x = C.x\n",
    "y = C.y\n",
    "z = C.z\n"
   ]
  },
  {
   "cell_type": "code",
   "execution_count": 269,
   "metadata": {
    "collapsed": false
   },
   "outputs": [],
   "source": [
    "v_4 = x**2 *xhat + 3*x*z**2*yhat - 2*x*z*zhat\n",
    "v_2 = sp.sin(x)*sp.sin(y)*sp.sin(z)\n",
    "v_1 = x**2+2*x*y+3*z+4\n",
    "v_3 = math.e**(-5*x)*sp.sin(4*y)*sp.cos(3*z)"
   ]
  },
  {
   "cell_type": "code",
   "execution_count": 270,
   "metadata": {
    "collapsed": false
   },
   "outputs": [
    {
     "data": {
      "text/latex": [
       "$$(2)\\mathbf{\\hat{x}_{}}$$"
      ],
      "text/plain": [
       "(2) _x"
      ]
     },
     "execution_count": 270,
     "metadata": {},
     "output_type": "execute_result"
    }
   ],
   "source": [
    "def lap_v(vec): \n",
    "    return(sp.diff(vec.components[xhat], x, 2)*xhat + \n",
    "             sp.diff(vec.components[yhat], y, 2)*yhat + \n",
    "             sp.diff(vec.components[zhat], z, 2)*zhat)\n",
    "lap(v_4)"
   ]
  },
  {
   "cell_type": "code",
   "execution_count": 271,
   "metadata": {
    "collapsed": false
   },
   "outputs": [
    {
     "data": {
      "text/latex": [
       "$$- 3 \\sin{\\left (\\mathbf{{x}_{}} \\right )} \\sin{\\left (\\mathbf{{y}_{}} \\right )} \\sin{\\left (\\mathbf{{z}_{}} \\right )}$$"
      ],
      "text/plain": [
       "-3⋅sin(_x)⋅sin(_y)⋅sin(_z)"
      ]
     },
     "execution_count": 271,
     "metadata": {},
     "output_type": "execute_result"
    }
   ],
   "source": [
    "def lap_s(s): \n",
    "    return(sp.diff(s, x, 2) + \n",
    "             sp.diff(s, y, 2) + \n",
    "             sp.diff(s, z, 2))\n",
    "lap_s(v_2)\n"
   ]
  },
  {
   "cell_type": "code",
   "execution_count": 272,
   "metadata": {
    "collapsed": false
   },
   "outputs": [
    {
     "data": {
      "text/latex": [
       "$$2$$"
      ],
      "text/plain": [
       "2"
      ]
     },
     "execution_count": 272,
     "metadata": {},
     "output_type": "execute_result"
    }
   ],
   "source": [
    "lap_s(v_1)\n"
   ]
  },
  {
   "cell_type": "code",
   "execution_count": 273,
   "metadata": {
    "collapsed": false
   },
   "outputs": [
    {
     "data": {
      "text/latex": [
       "$$0$$"
      ],
      "text/plain": [
       "0"
      ]
     },
     "execution_count": 273,
     "metadata": {},
     "output_type": "execute_result"
    }
   ],
   "source": [
    "lap_s(v_3)"
   ]
  },
  {
   "cell_type": "markdown",
   "metadata": {},
   "source": [
    "### Problem 1.31"
   ]
  },
  {
   "cell_type": "code",
   "execution_count": 274,
   "metadata": {
    "collapsed": true
   },
   "outputs": [],
   "source": [
    "a, b, c, d, x, y, z = sp.symbols('a b c d x y z')"
   ]
  },
  {
   "cell_type": "code",
   "execution_count": 275,
   "metadata": {
    "collapsed": false
   },
   "outputs": [
    {
     "data": {
      "text/latex": [
       "$$\\frac{1}{3}$$"
      ],
      "text/plain": [
       "1/3"
      ]
     },
     "execution_count": 275,
     "metadata": {},
     "output_type": "execute_result"
    }
   ],
   "source": [
    "V = sp.integrate(sp.integrate(sp.integrate(z**2,(z,0,1)),(y,0,1)),(x,0,1))\n",
    "V"
   ]
  },
  {
   "cell_type": "markdown",
   "metadata": {},
   "source": [
    "### Problem 1.33"
   ]
  },
  {
   "cell_type": "code",
   "execution_count": 276,
   "metadata": {
    "collapsed": false
   },
   "outputs": [
    {
     "data": {
      "text/latex": [
       "$$(\\mathbf{{x}_{}} \\mathbf{{y}_{}})\\mathbf{\\hat{x}_{}} + (2 \\mathbf{{y}_{}} \\mathbf{{z}_{}})\\mathbf{\\hat{y}_{}} + (3 \\mathbf{{x}_{}} \\mathbf{{z}_{}})\\mathbf{\\hat{z}_{}}$$"
      ],
      "text/plain": [
       "(_x⋅_y) _x + (2⋅_y⋅_z) _y + (3⋅_x⋅_z) _z"
      ]
     },
     "execution_count": 276,
     "metadata": {},
     "output_type": "execute_result"
    }
   ],
   "source": [
    "\n",
    "C = vector.CoordSys3D('', vector_names=['x', \"y\", \"z\"],\n",
    "                     variable_names=['x', \"y\", \"z\"])\n",
    "\n",
    "xhat = C.i\n",
    "yhat = C.j\n",
    "zhat = C.k\n",
    "x = C.x\n",
    "y = C.y\n",
    "z = C.z\n",
    "\n",
    "v = x*y*xhat + 2*y*z*yhat + 3*z*x*zhat\n",
    "v"
   ]
  },
  {
   "cell_type": "code",
   "execution_count": 277,
   "metadata": {
    "collapsed": false
   },
   "outputs": [
    {
     "data": {
      "text/latex": [
       "$$48$$"
      ],
      "text/plain": [
       "48"
      ]
     },
     "execution_count": 277,
     "metadata": {},
     "output_type": "execute_result"
    }
   ],
   "source": [
    "\n",
    "div_v = vector.divergence(v)\n",
    "vol_integral = sp.integrate(sp.integrate(sp.integrate(div_v, \n",
    "                                                      (x,0,2)), \n",
    "                                         (y, 0, 2)), \n",
    "                            (z, 0, 2))\n",
    "vol_integral"
   ]
  },
  {
   "cell_type": "code",
   "execution_count": 278,
   "metadata": {
    "collapsed": false
   },
   "outputs": [
    {
     "data": {
      "text/latex": [
       "$$48$$"
      ],
      "text/plain": [
       "48"
      ]
     },
     "execution_count": 278,
     "metadata": {},
     "output_type": "execute_result"
    }
   ],
   "source": [
    "\n",
    "top = sp.integrate(sp.integrate( v.dot(zhat), (x, 0,2)), (y,0,2)).subs(z, 2)\n",
    "bottom = -sp.integrate(sp.integrate( v.dot(zhat), (x, 0,2)), (y,0,2)).subs(z, 0)\n",
    "front = sp.integrate(sp.integrate( v.dot(zhat), (z, 0,2)), (y,0,2)).subs(x, 2)\n",
    "back = -sp.integrate(sp.integrate( v.dot(zhat), (z, 0,2)), (y,0,2)).subs(x, 0)\n",
    "left = -sp.integrate(sp.integrate( v.dot(zhat), (x, 0,2)), (z,0,2)).subs(y, 0)\n",
    "right = sp.integrate(sp.integrate( v.dot(zhat), (x, 0,2)), (z,0,2)).subs(y, 2)\n",
    "\n",
    "surface_integral = top+bottom+left+right+front+back\n",
    "surface_integral"
   ]
  },
  {
   "cell_type": "code",
   "execution_count": 279,
   "metadata": {
    "collapsed": false
   },
   "outputs": [
    {
     "data": {
      "text/plain": [
       "True"
      ]
     },
     "execution_count": 279,
     "metadata": {},
     "output_type": "execute_result"
    }
   ],
   "source": [
    "\n",
    "vol_integral == surface_integral"
   ]
  },
  {
   "cell_type": "markdown",
   "metadata": {},
   "source": [
    "### Problem 1.34"
   ]
  },
  {
   "cell_type": "code",
   "execution_count": 280,
   "metadata": {
    "collapsed": false
   },
   "outputs": [
    {
     "data": {
      "text/latex": [
       "$$- \\frac{8}{3}$$"
      ],
      "text/plain": [
       "-8/3"
      ]
     },
     "execution_count": 280,
     "metadata": {},
     "output_type": "execute_result"
    }
   ],
   "source": [
    "\n",
    "curl_v = vector.curl(v)\n",
    "surface_integral = sp.integrate(sp.integrate(curl_v.dot(xhat),\n",
    "                                             (y, 0, z)),\n",
    "                                (z, 0, 2)).subs(x, 0)\n",
    "surface_integral"
   ]
  },
  {
   "cell_type": "code",
   "execution_count": 281,
   "metadata": {
    "collapsed": false
   },
   "outputs": [
    {
     "data": {
      "text/latex": [
       "$$- \\frac{8}{3}$$"
      ],
      "text/plain": [
       "-8/3"
      ]
     },
     "execution_count": 281,
     "metadata": {},
     "output_type": "execute_result"
    }
   ],
   "source": [
    "horiz = sp.integrate(v.dot(yhat), (y, 0, 2)).subs({x:0, z:0})\n",
    "hyp = sp.integrate(v.dot(zhat-yhat).subs(y, 2-z) , (z, 0, 2)).subs(x, 0)\n",
    "vert = - sp.integrate(v.dot(zhat), (z, 2, 0)).subs({x:0, y:0})\n",
    "\n",
    "line_integral = horiz + hyp + vert\n",
    "line_integral"
   ]
  },
  {
   "cell_type": "code",
   "execution_count": 282,
   "metadata": {
    "collapsed": false
   },
   "outputs": [
    {
     "data": {
      "text/plain": [
       "True"
      ]
     },
     "execution_count": 282,
     "metadata": {},
     "output_type": "execute_result"
    }
   ],
   "source": [
    "line_integral == surface_integral"
   ]
  }
 ],
 "metadata": {
  "anaconda-cloud": {},
  "kernelspec": {
   "display_name": "Python [PHYS 362]",
   "language": "python",
   "name": "Python [PHYS 362]"
  },
  "language_info": {
   "codemirror_mode": {
    "name": "ipython",
    "version": 3
   },
   "file_extension": ".py",
   "mimetype": "text/x-python",
   "name": "python",
   "nbconvert_exporter": "python",
   "pygments_lexer": "ipython3",
   "version": "3.5.2"
  }
 },
 "nbformat": 4,
 "nbformat_minor": 2
}
